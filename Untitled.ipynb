{
 "cells": [
  {
   "cell_type": "code",
   "execution_count": 1,
   "id": "56cb90f4-f095-49f5-9f2d-86e46bd04c17",
   "metadata": {},
   "outputs": [],
   "source": [
    "import pandas as pd"
   ]
  },
  {
   "cell_type": "code",
   "execution_count": 2,
   "id": "a8920ec2-3e16-444c-98d4-079a084d67e8",
   "metadata": {},
   "outputs": [],
   "source": [
    "df_cocoa = pd.read_csv('flavors_of_cocoa.csv')\n"
   ]
  },
  {
   "cell_type": "code",
   "execution_count": 3,
   "id": "b15b2e79-de92-48ca-b427-91fea63abd55",
   "metadata": {},
   "outputs": [
    {
     "name": "stdout",
     "output_type": "stream",
     "text": [
      "Index(['Review Date'], dtype='object')\n"
     ]
    }
   ],
   "source": [
    "null_columns = df_cocoa.columns[df_cocoa.isnull().any()]\n",
    "print(null_columns)\n"
   ]
  },
  {
   "cell_type": "code",
   "execution_count": 4,
   "id": "da388c4a-eb41-402c-8c01-46c45472936c",
   "metadata": {},
   "outputs": [
    {
     "name": "stdout",
     "output_type": "stream",
     "text": [
      "U.S.A.\n"
     ]
    }
   ],
   "source": [
    "max_country = df_cocoa['Company Location'].value_counts().idxmax()\n",
    "print(max_country)"
   ]
  },
  {
   "cell_type": "code",
   "execution_count": 5,
   "id": "3f55df5b-c587-47a2-869a-33b3594b2e27",
   "metadata": {},
   "outputs": [
    {
     "name": "stdout",
     "output_type": "stream",
     "text": [
      "Id                    int64\n",
      "Company              object\n",
      "Bean Origin          object\n",
      "Review Date         float64\n",
      "Cocoa Percent        object\n",
      "Company Location     object\n",
      "Rating              float64\n",
      "dtype: object\n"
     ]
    }
   ],
   "source": [
    "print(df_cocoa.dtypes)"
   ]
  },
  {
   "cell_type": "code",
   "execution_count": 6,
   "id": "c6cbce56-a26b-47e0-81c0-d20c0afc4d01",
   "metadata": {},
   "outputs": [
    {
     "name": "stdout",
     "output_type": "stream",
     "text": [
      "5.0\n"
     ]
    }
   ],
   "source": [
    "max_rating = df_cocoa['Rating'].max()\n",
    "print(max_rating)"
   ]
  },
  {
   "cell_type": "code",
   "execution_count": null,
   "id": "6215138e-5a85-4886-809f-0ea71c00b9d9",
   "metadata": {},
   "outputs": [],
   "source": []
  }
 ],
 "metadata": {
  "kernelspec": {
   "display_name": "Python 3 (ipykernel)",
   "language": "python",
   "name": "python3"
  },
  "language_info": {
   "codemirror_mode": {
    "name": "ipython",
    "version": 3
   },
   "file_extension": ".py",
   "mimetype": "text/x-python",
   "name": "python",
   "nbconvert_exporter": "python",
   "pygments_lexer": "ipython3",
   "version": "3.8.17"
  }
 },
 "nbformat": 4,
 "nbformat_minor": 5
}
